{
 "cells": [
  {
   "cell_type": "code",
   "execution_count": 1,
   "id": "fbbecf54-d913-494c-bce9-9cf529762284",
   "metadata": {},
   "outputs": [],
   "source": [
    "import pandas as pd"
   ]
  },
  {
   "cell_type": "code",
   "execution_count": 2,
   "id": "667f8c88-4383-46dd-be76-0c2554aef230",
   "metadata": {},
   "outputs": [
    {
     "name": "stderr",
     "output_type": "stream",
     "text": [
      "C:\\Users\\13808\\AppData\\Local\\Temp\\ipykernel_8688\\4148218973.py:1: DtypeWarning: Columns (2) have mixed types. Specify dtype option on import or set low_memory=False.\n",
      "  df = pd.read_csv('NationalLibrarySingaporeDigitisedBooksandMagazines.csv')\n"
     ]
    }
   ],
   "source": [
    "df = pd.read_csv('NationalLibrarySingaporeDigitisedBooksandMagazines.csv')"
   ]
  },
  {
   "cell_type": "code",
   "execution_count": 3,
   "id": "f95a11f4-3cb0-4457-80d4-211e5dfe4ddd",
   "metadata": {},
   "outputs": [],
   "source": [
    "pd.set_option('display.max_columns', None)"
   ]
  },
  {
   "cell_type": "code",
   "execution_count": 4,
   "id": "f99ff8a3-49cf-41ef-82b3-a830cf2dc1dc",
   "metadata": {},
   "outputs": [
    {
     "data": {
      "text/plain": [
       "language\n",
       "eng                  28777\n",
       "chi                   3268\n",
       "may                   2619\n",
       "eng|chi               2380\n",
       "eng|chi|may|tam       1220\n",
       "                     ...  \n",
       "jav                      1\n",
       "eng|Italian              1\n",
       "chi|May|Eng              1\n",
       "eng|chi|nay              1\n",
       "Languages:eng|chi        1\n",
       "Name: count, Length: 73, dtype: int64"
      ]
     },
     "execution_count": 4,
     "metadata": {},
     "output_type": "execute_result"
    }
   ],
   "source": [
    "df.language.value_counts()"
   ]
  },
  {
   "cell_type": "code",
   "execution_count": 5,
   "id": "24daaa27-b68a-414a-9f70-f39bcde4710a",
   "metadata": {},
   "outputs": [],
   "source": [
    "'''\n",
    "from openai import OpenAI\n",
    "import pandas as pd\n",
    "\n",
    "client = OpenAI()\n",
    "\n",
    "def translate_text(text, model=\"gpt-3.5-turbo\"):\n",
    "    messages=[\n",
    "        {\"role\": \"system\", \"content\": \"You are a skilled translator.\"},\n",
    "        {\"role\": \"user\", \"content\": f\"Translate this to English if not in English: '{text}'\"}\n",
    "    ]\n",
    "    response = client.chat.completions.create(\n",
    "        model=model,\n",
    "        messages=messages,\n",
    "        temperature=0\n",
    "    )\n",
    "    response_message = response.choices[0].message.content\n",
    "    return response_message\n",
    "\n",
    "non_english_rows = df[df['language'] != 'eng']\n",
    "\n",
    "for index, row in non_english_rows.iterrows():\n",
    "    for col in ['title', 'alternative_title', 'abstract']:\n",
    "        original_text = row[col]\n",
    "        if pd.notnull(original_text):  \n",
    "            translated_text = translate_text(original_text)\n",
    "            df.at[index, col] = translated_text\n",
    "'''\n",
    "# Not try to run this code even if you have OpenAI API key, it take long time."
   ]
  },
  {
   "cell_type": "code",
   "execution_count": 6,
   "id": "af4c37ab-b756-400c-a029-c2bc7c7ce4bf",
   "metadata": {},
   "outputs": [],
   "source": [
    "df_filter = df[['identifier_uuid','title','alternative_title','abstract']]"
   ]
  },
  {
   "cell_type": "code",
   "execution_count": 15,
   "id": "43571df5-f474-48a2-a385-2a07d3d77f4e",
   "metadata": {},
   "outputs": [],
   "source": [
    "df_filter.to_csv('df_filter.csv', index = False, header = True)"
   ]
  }
 ],
 "metadata": {
  "kernelspec": {
   "display_name": "Python (py312)",
   "language": "python",
   "name": "py312"
  },
  "language_info": {
   "codemirror_mode": {
    "name": "ipython",
    "version": 3
   },
   "file_extension": ".py",
   "mimetype": "text/x-python",
   "name": "python",
   "nbconvert_exporter": "python",
   "pygments_lexer": "ipython3",
   "version": "3.12.1"
  }
 },
 "nbformat": 4,
 "nbformat_minor": 5
}
