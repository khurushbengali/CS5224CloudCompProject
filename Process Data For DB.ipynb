{
 "cells": [
  {
   "cell_type": "code",
   "execution_count": 119,
   "metadata": {},
   "outputs": [],
   "source": [
    "import pandas as pd\n",
    "import json\n",
    "import numpy as np"
   ]
  },
  {
   "cell_type": "markdown",
   "metadata": {},
   "source": [
    "## Books"
   ]
  },
  {
   "cell_type": "code",
   "execution_count": 84,
   "metadata": {},
   "outputs": [],
   "source": [
    "book_info_path = \"backend/resources/NLB_updated.csv\"\n",
    "recommendation_path = \"backend/resources/recommendation.csv\""
   ]
  },
  {
   "cell_type": "code",
   "execution_count": 163,
   "metadata": {},
   "outputs": [],
   "source": [
    "columns = [\"identifier_uuid\",\n",
    "    \"nlb_type\",\n",
    "    \"language\",\n",
    "    \"abstract\",\n",
    "    \"date_created\",\n",
    "    \"merged_creator\",\n",
    "    \"title\"]"
   ]
  },
  {
   "cell_type": "code",
   "execution_count": 164,
   "metadata": {},
   "outputs": [],
   "source": [
    "book_info = pd.read_csv(book_info_path, usecols=columns) \\\n",
    "    .rename(columns={\"identifier_uuid\": \"uuid\", \"nlb_type\": \"type\"}) \\\n",
    "    .fillna(\"unknown\")"
   ]
  },
  {
   "cell_type": "code",
   "execution_count": 170,
   "metadata": {},
   "outputs": [],
   "source": [
    "def to_books_dynamo_csv(book_info, size=10):\n",
    "    keys = []\n",
    "    data = []\n",
    "    for i, chunk in enumerate(np.array_split(book_info, size)):\n",
    "        keys.append(str(i))\n",
    "        data.append(json.dumps(chunk.drop(columns=\"abstract\").to_dict(\"records\"), sort_keys=True, separators=(',', ':')))\n",
    "    print(size)\n",
    "    return pd.DataFrame({\n",
    "        \"key\": keys,\n",
    "        \"data\": data\n",
    "    })"
   ]
  },
  {
   "cell_type": "code",
   "execution_count": 171,
   "metadata": {},
   "outputs": [
    {
     "name": "stdout",
     "output_type": "stream",
     "text": [
      "10\n"
     ]
    },
    {
     "name": "stderr",
     "output_type": "stream",
     "text": [
      "/opt/miniconda3/envs/cs5224-project/lib/python3.9/site-packages/numpy/core/fromnumeric.py:59: FutureWarning: 'DataFrame.swapaxes' is deprecated and will be removed in a future version. Please use 'DataFrame.transpose' instead.\n",
      "  return bound(*args, **kwds)\n"
     ]
    }
   ],
   "source": [
    "to_books_dynamo_csv(book_info) \\\n",
    "    .to_csv(\"db/resources/books.csv\", index=False)"
   ]
  },
  {
   "cell_type": "code",
   "execution_count": 167,
   "metadata": {},
   "outputs": [],
   "source": [
    "book_info.to_csv(\"db/resources/book_info.csv\", index=False)"
   ]
  },
  {
   "cell_type": "code",
   "execution_count": 131,
   "metadata": {},
   "outputs": [],
   "source": [
    "recommendations = pd.read_csv(recommendation_path)"
   ]
  },
  {
   "cell_type": "code",
   "execution_count": 107,
   "metadata": {},
   "outputs": [],
   "source": [
    "def to_recommendations_dynamo_csv(recommendations):\n",
    "    uuid = recommendations[\"UUID\"]\n",
    "    rec_list = [json.dumps(rec.tolist()) for rec in recommendations.iloc[:, 1:].values]\n",
    "    return pd.DataFrame({\n",
    "        \"uuid\": uuid,\n",
    "        \"data\": rec_list\n",
    "    })"
   ]
  },
  {
   "cell_type": "code",
   "execution_count": 108,
   "metadata": {},
   "outputs": [],
   "source": [
    "to_recommendations_dynamo_csv(recommendations) \\\n",
    "    .to_csv(\"db/resources/recommendations.csv\", index=False)\n"
   ]
  }
 ],
 "metadata": {
  "kernelspec": {
   "display_name": "Python 3 (ipykernel)",
   "language": "python",
   "name": "python3"
  },
  "language_info": {
   "codemirror_mode": {
    "name": "ipython",
    "version": 3
   },
   "file_extension": ".py",
   "mimetype": "text/x-python",
   "name": "python",
   "nbconvert_exporter": "python",
   "pygments_lexer": "ipython3",
   "version": "3.9.18"
  }
 },
 "nbformat": 4,
 "nbformat_minor": 2
}
